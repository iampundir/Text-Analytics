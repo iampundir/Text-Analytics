{
  "nbformat": 4,
  "nbformat_minor": 0,
  "metadata": {
    "colab": {
      "name": "Working with TFIDF.ipynb",
      "provenance": [],
      "include_colab_link": true
    },
    "kernelspec": {
      "name": "python3",
      "display_name": "Python 3"
    }
  },
  "cells": [
    {
      "cell_type": "markdown",
      "metadata": {
        "id": "view-in-github",
        "colab_type": "text"
      },
      "source": [
        "<a href=\"https://colab.research.google.com/github/iampundir/Text-Analytics/blob/main/Working_with_TFIDF.ipynb\" target=\"_parent\"><img src=\"https://colab.research.google.com/assets/colab-badge.svg\" alt=\"Open In Colab\"/></a>"
      ]
    },
    {
      "cell_type": "code",
      "metadata": {
        "id": "R2n8kohpeCUB",
        "outputId": "cd440b4d-f201-41b8-d852-9e3fb429698e",
        "colab": {
          "base_uri": "https://localhost:8080/",
          "height": 377
        }
      },
      "source": [
        "!wget https://www.dropbox.com/s/41q6tiwgqxy3r95/The%20Maze%20Runner.csv?dl=0"
      ],
      "execution_count": 1,
      "outputs": [
        {
          "output_type": "stream",
          "text": [
            "--2020-10-12 17:36:05--  https://www.dropbox.com/s/41q6tiwgqxy3r95/The%20Maze%20Runner.csv?dl=0\n",
            "Resolving www.dropbox.com (www.dropbox.com)... 162.125.82.1, 2620:100:6032:1::a27d:5201\n",
            "Connecting to www.dropbox.com (www.dropbox.com)|162.125.82.1|:443... connected.\n",
            "HTTP request sent, awaiting response... 301 Moved Permanently\n",
            "Location: /s/raw/41q6tiwgqxy3r95/The%20Maze%20Runner.csv [following]\n",
            "--2020-10-12 17:36:05--  https://www.dropbox.com/s/raw/41q6tiwgqxy3r95/The%20Maze%20Runner.csv\n",
            "Reusing existing connection to www.dropbox.com:443.\n",
            "HTTP request sent, awaiting response... 302 Found\n",
            "Location: https://ucb2d0150efbe6f1608711c1f405.dl.dropboxusercontent.com/cd/0/inline/BBJncMq8QES0Waex59NdLOKyAkUAFZEqVAqJP-YUrcX6emlNVvtwVkHX2WjXqJxYVzTvwDJv8kurIjmdzYg38Wya03QiOgQTAtTEbIgtWtJvag/file# [following]\n",
            "--2020-10-12 17:36:05--  https://ucb2d0150efbe6f1608711c1f405.dl.dropboxusercontent.com/cd/0/inline/BBJncMq8QES0Waex59NdLOKyAkUAFZEqVAqJP-YUrcX6emlNVvtwVkHX2WjXqJxYVzTvwDJv8kurIjmdzYg38Wya03QiOgQTAtTEbIgtWtJvag/file\n",
            "Resolving ucb2d0150efbe6f1608711c1f405.dl.dropboxusercontent.com (ucb2d0150efbe6f1608711c1f405.dl.dropboxusercontent.com)... 162.125.82.15, 2620:100:6032:15::a27d:520f\n",
            "Connecting to ucb2d0150efbe6f1608711c1f405.dl.dropboxusercontent.com (ucb2d0150efbe6f1608711c1f405.dl.dropboxusercontent.com)|162.125.82.15|:443... connected.\n",
            "HTTP request sent, awaiting response... 200 OK\n",
            "Length: 825368 (806K) [text/plain]\n",
            "Saving to: ‘The Maze Runner.csv?dl=0’\n",
            "\n",
            "The Maze Runner.csv 100%[===================>] 806.02K  5.24MB/s    in 0.2s    \n",
            "\n",
            "2020-10-12 17:36:06 (5.24 MB/s) - ‘The Maze Runner.csv?dl=0’ saved [825368/825368]\n",
            "\n"
          ],
          "name": "stdout"
        }
      ]
    },
    {
      "cell_type": "code",
      "metadata": {
        "id": "8zwQZO3ZhidM"
      },
      "source": [
        "import numpy as np\n",
        "import pandas as pd\n",
        "from sklearn.feature_extraction.text import TfidfVectorizer\n",
        "from sklearn.metrics import pairwise_distances\n",
        "from sklearn.base import BaseEstimator, TransformerMixin\n",
        "from sklearn.pipeline import Pipeline"
      ],
      "execution_count": 2,
      "outputs": []
    },
    {
      "cell_type": "code",
      "metadata": {
        "id": "-e07w9cZitWu"
      },
      "source": [
        "reviews = pd.read_csv('/content/The Maze Runner.csv?dl=0', index_col=0)"
      ],
      "execution_count": 3,
      "outputs": []
    },
    {
      "cell_type": "code",
      "metadata": {
        "id": "em0uiZRyjRPg",
        "outputId": "c1e2e604-4b97-456f-8886-5a0a49cf85a7",
        "colab": {
          "base_uri": "https://localhost:8080/",
          "height": 204
        }
      },
      "source": [
        "reviews.head()"
      ],
      "execution_count": 4,
      "outputs": [
        {
          "output_type": "execute_result",
          "data": {
            "text/html": [
              "<div>\n",
              "<style scoped>\n",
              "    .dataframe tbody tr th:only-of-type {\n",
              "        vertical-align: middle;\n",
              "    }\n",
              "\n",
              "    .dataframe tbody tr th {\n",
              "        vertical-align: top;\n",
              "    }\n",
              "\n",
              "    .dataframe thead th {\n",
              "        text-align: right;\n",
              "    }\n",
              "</style>\n",
              "<table border=\"1\" class=\"dataframe\">\n",
              "  <thead>\n",
              "    <tr style=\"text-align: right;\">\n",
              "      <th></th>\n",
              "      <th>Ratings</th>\n",
              "      <th>Reviews</th>\n",
              "    </tr>\n",
              "  </thead>\n",
              "  <tbody>\n",
              "    <tr>\n",
              "      <th>0</th>\n",
              "      <td>1/10</td>\n",
              "      <td>My English is so bad, I don't speak English, ...</td>\n",
              "    </tr>\n",
              "    <tr>\n",
              "      <th>1</th>\n",
              "      <td>1/10</td>\n",
              "      <td>The trailer got me into the cinema and it was...</td>\n",
              "    </tr>\n",
              "    <tr>\n",
              "      <th>2</th>\n",
              "      <td>4/10</td>\n",
              "      <td>I went into this film with low expectations. ...</td>\n",
              "    </tr>\n",
              "    <tr>\n",
              "      <th>3</th>\n",
              "      <td>3/10</td>\n",
              "      <td>While I was happy to finally see a male-orien...</td>\n",
              "    </tr>\n",
              "    <tr>\n",
              "      <th>4</th>\n",
              "      <td>7/10</td>\n",
              "      <td>It's rare for a big movie studio to trust the...</td>\n",
              "    </tr>\n",
              "  </tbody>\n",
              "</table>\n",
              "</div>"
            ],
            "text/plain": [
              "  Ratings                                            Reviews\n",
              "0    1/10   My English is so bad, I don't speak English, ...\n",
              "1    1/10   The trailer got me into the cinema and it was...\n",
              "2    4/10   I went into this film with low expectations. ...\n",
              "3    3/10   While I was happy to finally see a male-orien...\n",
              "4    7/10   It's rare for a big movie studio to trust the..."
            ]
          },
          "metadata": {
            "tags": []
          },
          "execution_count": 4
        }
      ]
    },
    {
      "cell_type": "code",
      "metadata": {
        "id": "BdWC7ZrskCZx"
      },
      "source": [
        "import re"
      ],
      "execution_count": 5,
      "outputs": []
    },
    {
      "cell_type": "code",
      "metadata": {
        "id": "y-8OcylYkCkW"
      },
      "source": [
        "ratings = [re.sub(\"/10\",\"\",str(x)) for x in reviews.Ratings]"
      ],
      "execution_count": 6,
      "outputs": []
    },
    {
      "cell_type": "code",
      "metadata": {
        "id": "UFA_BBNtkCpt"
      },
      "source": [
        "reviews['Ratings'] = ratings"
      ],
      "execution_count": 7,
      "outputs": []
    },
    {
      "cell_type": "code",
      "metadata": {
        "id": "c4XR77zjk1eh"
      },
      "source": [
        "reviews.Ratings = reviews.Ratings.astype('float')"
      ],
      "execution_count": 8,
      "outputs": []
    },
    {
      "cell_type": "code",
      "metadata": {
        "id": "e-prRvYok-JJ",
        "outputId": "13b39c7c-cfae-4e6a-e498-38a090a7ac3d",
        "colab": {
          "base_uri": "https://localhost:8080/",
          "height": 170
        }
      },
      "source": [
        "reviews.info()"
      ],
      "execution_count": 9,
      "outputs": [
        {
          "output_type": "stream",
          "text": [
            "<class 'pandas.core.frame.DataFrame'>\n",
            "Int64Index: 500 entries, 0 to 499\n",
            "Data columns (total 2 columns):\n",
            " #   Column   Non-Null Count  Dtype  \n",
            "---  ------   --------------  -----  \n",
            " 0   Ratings  481 non-null    float64\n",
            " 1   Reviews  500 non-null    object \n",
            "dtypes: float64(1), object(1)\n",
            "memory usage: 11.7+ KB\n"
          ],
          "name": "stdout"
        }
      ]
    },
    {
      "cell_type": "code",
      "metadata": {
        "id": "kz268C3hlUiT"
      },
      "source": [
        "from wordcloud import STOPWORDS"
      ],
      "execution_count": 10,
      "outputs": []
    },
    {
      "cell_type": "code",
      "metadata": {
        "id": "aQbmRP71lGZF"
      },
      "source": [
        "tfidf = TfidfVectorizer(stop_words=STOPWORDS, token_pattern=\"[a-z']+\")"
      ],
      "execution_count": 11,
      "outputs": []
    },
    {
      "cell_type": "code",
      "metadata": {
        "id": "9bVwOgiUljrf",
        "outputId": "d42e4f98-391c-47a8-9326-95be58f33771",
        "colab": {
          "base_uri": "https://localhost:8080/",
          "height": 221
        }
      },
      "source": [
        "tfidf.fit(reviews.Reviews)"
      ],
      "execution_count": 12,
      "outputs": [
        {
          "output_type": "execute_result",
          "data": {
            "text/plain": [
              "TfidfVectorizer(analyzer='word', binary=False, decode_error='strict',\n",
              "                dtype=<class 'numpy.float64'>, encoding='utf-8',\n",
              "                input='content', lowercase=True, max_df=1.0, max_features=None,\n",
              "                min_df=1, ngram_range=(1, 1), norm='l2', preprocessor=None,\n",
              "                smooth_idf=True,\n",
              "                stop_words={'a', 'about', 'above', 'after', 'again', 'against',\n",
              "                            'all', 'also', 'am', 'an', 'and', 'any', 'are',\n",
              "                            \"aren't\", 'as', 'at', 'be', 'because', 'been',\n",
              "                            'before', 'being', 'below', 'between', 'both',\n",
              "                            'but', 'by', 'can', \"can't\", 'cannot', 'com', ...},\n",
              "                strip_accents=None, sublinear_tf=False, token_pattern=\"[a-z']+\",\n",
              "                tokenizer=None, use_idf=True, vocabulary=None)"
            ]
          },
          "metadata": {
            "tags": []
          },
          "execution_count": 12
        }
      ]
    },
    {
      "cell_type": "code",
      "metadata": {
        "id": "xuaPk9DulzzC"
      },
      "source": [
        "tfidf_mat = tfidf.transform(reviews.Reviews)"
      ],
      "execution_count": 13,
      "outputs": []
    },
    {
      "cell_type": "code",
      "metadata": {
        "id": "VWIidBbLmA2S",
        "outputId": "a1eee7ca-95e6-495b-de8e-609119612d00",
        "colab": {
          "base_uri": "https://localhost:8080/",
          "height": 51
        }
      },
      "source": [
        "tfidf_mat"
      ],
      "execution_count": 14,
      "outputs": [
        {
          "output_type": "execute_result",
          "data": {
            "text/plain": [
              "<500x8420 sparse matrix of type '<class 'numpy.float64'>'\n",
              "\twith 56045 stored elements in Compressed Sparse Row format>"
            ]
          },
          "metadata": {
            "tags": []
          },
          "execution_count": 14
        }
      ]
    },
    {
      "cell_type": "code",
      "metadata": {
        "id": "7XQyoMBfnEyQ"
      },
      "source": [
        "query = \"James Dashner's book and hunger games\""
      ],
      "execution_count": 15,
      "outputs": []
    },
    {
      "cell_type": "code",
      "metadata": {
        "id": "a89cxeYLn71E"
      },
      "source": [
        "query_tfidf_mat = tfidf.transform([query])"
      ],
      "execution_count": 16,
      "outputs": []
    },
    {
      "cell_type": "code",
      "metadata": {
        "id": "8DIn9QeloW37",
        "outputId": "dc8ca0f6-20e6-467b-8797-ebf9633b62d8",
        "colab": {
          "base_uri": "https://localhost:8080/",
          "height": 51
        }
      },
      "source": [
        "query_tfidf_mat"
      ],
      "execution_count": 17,
      "outputs": [
        {
          "output_type": "execute_result",
          "data": {
            "text/plain": [
              "<1x8420 sparse matrix of type '<class 'numpy.float64'>'\n",
              "\twith 5 stored elements in Compressed Sparse Row format>"
            ]
          },
          "metadata": {
            "tags": []
          },
          "execution_count": 17
        }
      ]
    },
    {
      "cell_type": "code",
      "metadata": {
        "id": "s_hmXEPPoeOk",
        "outputId": "94ff27cf-2329-46da-fdd8-7bb0917c5a1e",
        "colab": {
          "base_uri": "https://localhost:8080/",
          "height": 34
        }
      },
      "source": [
        "similarity = pairwise_distances(X=tfidf_mat, Y=query_tfidf_mat, metric='cosine')\n",
        "np.argsort(similarity.flatten())[:5]"
      ],
      "execution_count": 18,
      "outputs": [
        {
          "output_type": "execute_result",
          "data": {
            "text/plain": [
              "array([261, 487, 377, 497, 336])"
            ]
          },
          "metadata": {
            "tags": []
          },
          "execution_count": 18
        }
      ]
    },
    {
      "cell_type": "code",
      "metadata": {
        "id": "plmDS91rpqjX",
        "outputId": "0d20a111-9e55-4eaa-b810-17f6f2536eb3",
        "colab": {
          "base_uri": "https://localhost:8080/",
          "height": 120
        }
      },
      "source": [
        "reviews.loc[487,'Reviews']"
      ],
      "execution_count": 19,
      "outputs": [
        {
          "output_type": "execute_result",
          "data": {
            "application/vnd.google.colaboratory.intrinsic+json": {
              "type": "string"
            },
            "text/plain": [
              "\" 'The Maze Runner, based on the first part of James Dashner's young-adult post-apocalyptic sci-fi trilogy, is a good and interesting start to the series. It has enough thrills and twists to keep you intrigued and on-the-edge till the end. The cast, which is almost entirely filled with teenagers, has done quite a commendable job and help making the dystopian scenario quite believable.The plot may seem like one of those stories you've heard time and again, but it does have new and interesting things to offer. Since there are so many characters, their development is quite limited. Few of the answers regarding the plot are answered towards the end; maybe, the remaining answers are left for the sequels.I would have no issues if this becomes a big movie franchise like 'The Hunger Games' simply because it's much better than other big movie franchises of the past, like The Twilight Series. \""
            ]
          },
          "metadata": {
            "tags": []
          },
          "execution_count": 19
        }
      ]
    },
    {
      "cell_type": "code",
      "metadata": {
        "id": "As4vVQnkt3mo"
      },
      "source": [
        "class tfidf_mat_creator(BaseEstimator, TransformerMixin):\n",
        "  def __init__(self, tfidf):\n",
        "    self.tfidf = tfidf\n",
        "\n",
        "  def fit(self,X,y=None):\n",
        "    return self\n",
        "  \n",
        "  def transform(self, X, y=None):\n",
        "    return self.tfidf.transform([X])\n",
        "\n",
        "class index_most_similar(BaseEstimator, TransformerMixin):\n",
        "  def __init__(self, tfidf_mat, metric='euclidean', k=5):\n",
        "    self.tfidf_mat = tfidf_mat\n",
        "    self.metric = metric\n",
        "    self.k = k\n",
        "\n",
        "  def fit(self, X, y=None):\n",
        "    return self\n",
        "\n",
        "  def transform(self, X, y=None):\n",
        "    return np.argsort(pairwise_distances(X=X, Y=self.tfidf_mat, metric=self.metric)).flatten()[:self.k]"
      ],
      "execution_count": 20,
      "outputs": []
    },
    {
      "cell_type": "code",
      "metadata": {
        "id": "nnCqtskaxHCD"
      },
      "source": [
        "pipeline = Pipeline([('conv_to_tfidf',tfidf_mat_creator(tfidf=tfidf)),\n",
        "                     ('extract_similarity',index_most_similar(tfidf_mat=tfidf_mat))])"
      ],
      "execution_count": 21,
      "outputs": []
    },
    {
      "cell_type": "code",
      "metadata": {
        "id": "_Dx0xgnFzPVz",
        "outputId": "6bfdc8d0-ca97-4f28-8bbb-240451ab0d35",
        "colab": {
          "base_uri": "https://localhost:8080/",
          "height": 663
        }
      },
      "source": [
        "pipeline.fit(query)"
      ],
      "execution_count": 22,
      "outputs": [
        {
          "output_type": "execute_result",
          "data": {
            "text/plain": [
              "Pipeline(memory=None,\n",
              "         steps=[('conv_to_tfidf',\n",
              "                 tfidf_mat_creator(tfidf=TfidfVectorizer(analyzer='word',\n",
              "                                                         binary=False,\n",
              "                                                         decode_error='strict',\n",
              "                                                         dtype=<class 'numpy.float64'>,\n",
              "                                                         encoding='utf-8',\n",
              "                                                         input='content',\n",
              "                                                         lowercase=True,\n",
              "                                                         max_df=1.0,\n",
              "                                                         max_features=None,\n",
              "                                                         min_df=1,\n",
              "                                                         ngram_range=(1, 1),\n",
              "                                                         norm='l2',\n",
              "                                                         preprocessor=None,\n",
              "                                                         smooth_idf=True,\n",
              "                                                         stop_words={'a',\n",
              "                                                                     'about',\n",
              "                                                                     'above',\n",
              "                                                                     'afte...\n",
              "                                                                     'both',\n",
              "                                                                     'but',\n",
              "                                                                     'by',\n",
              "                                                                     'can',\n",
              "                                                                     \"can't\",\n",
              "                                                                     'cannot',\n",
              "                                                                     'com', ...},\n",
              "                                                         strip_accents=None,\n",
              "                                                         sublinear_tf=False,\n",
              "                                                         token_pattern=\"[a-z']+\",\n",
              "                                                         tokenizer=None,\n",
              "                                                         use_idf=True,\n",
              "                                                         vocabulary=None))),\n",
              "                ('extract_similarity',\n",
              "                 index_most_similar(k=5, metric='euclidean',\n",
              "                                    tfidf_mat=<500x8420 sparse matrix of type '<class 'numpy.float64'>'\n",
              "\twith 56045 stored elements in Compressed Sparse Row format>))],\n",
              "         verbose=False)"
            ]
          },
          "metadata": {
            "tags": []
          },
          "execution_count": 22
        }
      ]
    },
    {
      "cell_type": "code",
      "metadata": {
        "id": "PxUctbyizTN9",
        "outputId": "5044c6a8-828d-4acc-9018-a48c9623ff43",
        "colab": {
          "base_uri": "https://localhost:8080/",
          "height": 34
        }
      },
      "source": [
        "pipeline.transform(query)"
      ],
      "execution_count": 23,
      "outputs": [
        {
          "output_type": "execute_result",
          "data": {
            "text/plain": [
              "array([261, 487, 377, 497, 336])"
            ]
          },
          "metadata": {
            "tags": []
          },
          "execution_count": 23
        }
      ]
    },
    {
      "cell_type": "code",
      "metadata": {
        "id": "IL5yybC3zfXG"
      },
      "source": [
        ""
      ],
      "execution_count": 23,
      "outputs": []
    }
  ]
}