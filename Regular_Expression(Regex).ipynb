{
  "nbformat": 4,
  "nbformat_minor": 0,
  "metadata": {
    "colab": {
      "name": "Regular Expression(Regex).ipynb",
      "provenance": [],
      "authorship_tag": "ABX9TyM0FYGjD8LKrdrr5k4SExN6",
      "include_colab_link": true
    },
    "kernelspec": {
      "name": "python3",
      "display_name": "Python 3"
    }
  },
  "cells": [
    {
      "cell_type": "markdown",
      "metadata": {
        "id": "view-in-github",
        "colab_type": "text"
      },
      "source": [
        "<a href=\"https://colab.research.google.com/github/iampundir/Text-Analytics/blob/main/Regular_Expression(Regex).ipynb\" target=\"_parent\"><img src=\"https://colab.research.google.com/assets/colab-badge.svg\" alt=\"Open In Colab\"/></a>"
      ]
    },
    {
      "cell_type": "code",
      "metadata": {
        "id": "U6FhokdeYZCl"
      },
      "source": [
        "import re"
      ],
      "execution_count": null,
      "outputs": []
    },
    {
      "cell_type": "code",
      "metadata": {
        "id": "NvNIZ99XY_Dv"
      },
      "source": [
        "text_to_search = '''\n",
        "abcdefghijklmnopqurtuvwxyz\n",
        "ABCDEFGHIJKLMNOPQRSTUVWXYZ\n",
        "1234567890\n",
        "\n",
        "Ha HaHa\n",
        "\n",
        "MetaCharacters (Need to be escaped):\n",
        ". ^ $ * + ? { } [ ] \\ | ( )\n",
        "\n",
        "coreyms.com\n",
        "321-555-4321\n",
        "123.555.1234\n",
        "\n",
        "123*555*1234\n",
        "800-555-1234\n",
        "900-555-1234\n",
        "Mr. Schafer\n",
        "Mr Smith\n",
        "Ms Davis\n",
        "Mrs. Robinson\n",
        "Mr. T\n",
        "\n",
        "cat\n",
        "mat\n",
        "bat\n",
        "'''"
      ],
      "execution_count": null,
      "outputs": []
    },
    {
      "cell_type": "code",
      "metadata": {
        "id": "Ky-E2u0iZdfg"
      },
      "source": [
        "sentence = 'Start a sentence and then bring it to an end'"
      ],
      "execution_count": null,
      "outputs": []
    },
    {
      "cell_type": "code",
      "metadata": {
        "id": "UJx-8mCnZkjT"
      },
      "source": [
        "pattern= re.compile(r\"Start\",re.I)"
      ],
      "execution_count": null,
      "outputs": []
    },
    {
      "cell_type": "code",
      "metadata": {
        "id": "IjmkfeYrZ1Eb"
      },
      "source": [
        "matches=pattern.search(sentence)"
      ],
      "execution_count": null,
      "outputs": []
    },
    {
      "cell_type": "code",
      "metadata": {
        "id": "sW0NbSH7Z987",
        "outputId": "2648b3d2-f2ac-4dfa-b288-0c6c8531f3b4",
        "colab": {
          "base_uri": "https://localhost:8080/",
          "height": 34
        }
      },
      "source": [
        "print(matches)"
      ],
      "execution_count": null,
      "outputs": [
        {
          "output_type": "stream",
          "text": [
            "<_sre.SRE_Match object; span=(0, 5), match='Start'>\n"
          ],
          "name": "stdout"
        }
      ]
    },
    {
      "cell_type": "code",
      "metadata": {
        "id": "-g_BgsqxZ__9",
        "outputId": "18e33738-e9b7-45e3-c723-43b89ca5e17d",
        "colab": {
          "base_uri": "https://localhost:8080/",
          "height": 34
        }
      },
      "source": [
        "print(\"\\tTab\") # here the python is printing the whole which tab space."
      ],
      "execution_count": null,
      "outputs": [
        {
          "output_type": "stream",
          "text": [
            "\tTab\n"
          ],
          "name": "stdout"
        }
      ]
    },
    {
      "cell_type": "code",
      "metadata": {
        "id": "-YZGr46Va_UQ",
        "outputId": "2239000e-84b0-47a6-cdc0-02b5dc01d192",
        "colab": {
          "base_uri": "https://localhost:8080/",
          "height": 34
        }
      },
      "source": [
        "print(r\"\\tTab\") # here due to the use of r it takes the string only/"
      ],
      "execution_count": null,
      "outputs": [
        {
          "output_type": "stream",
          "text": [
            "\\tTab\n"
          ],
          "name": "stdout"
        }
      ]
    },
    {
      "cell_type": "markdown",
      "metadata": {
        "id": "y80Fi6e8bvs_"
      },
      "source": [
        "Let us find the abc in our text_to_search"
      ]
    },
    {
      "cell_type": "code",
      "metadata": {
        "id": "HxJ8odm1bIOG"
      },
      "source": [
        "pattern = re.compile(r\"abc\")\n",
        "matches= pattern.finditer(text_to_search)"
      ],
      "execution_count": null,
      "outputs": []
    },
    {
      "cell_type": "code",
      "metadata": {
        "id": "ws22NXs_btug",
        "outputId": "fea8c264-7993-4640-9648-5af50c170e45",
        "colab": {
          "base_uri": "https://localhost:8080/",
          "height": 34
        }
      },
      "source": [
        "for match in matches:\n",
        "  print(match)"
      ],
      "execution_count": null,
      "outputs": [
        {
          "output_type": "stream",
          "text": [
            "<_sre.SRE_Match object; span=(1, 4), match='abc'>\n"
          ],
          "name": "stdout"
        }
      ]
    },
    {
      "cell_type": "markdown",
      "metadata": {
        "id": "qL-af9zkcMFG"
      },
      "source": [
        "find only 1 match \"abc\"\n",
        "spam= from indexes  1 to 4 (1,4)"
      ]
    },
    {
      "cell_type": "code",
      "metadata": {
        "id": "Cu2pmf85cBLh",
        "outputId": "d5871cc3-1fe8-49f2-a467-6a49abe0969a",
        "colab": {
          "base_uri": "https://localhost:8080/",
          "height": 34
        }
      },
      "source": [
        "print (text_to_search[1:4])"
      ],
      "execution_count": null,
      "outputs": [
        {
          "output_type": "stream",
          "text": [
            "abc\n"
          ],
          "name": "stdout"
        }
      ]
    },
    {
      "cell_type": "markdown",
      "metadata": {
        "id": "LaGQeEiFdBro"
      },
      "source": [
        "lets find our url.\n",
        "we need to use \\. to just exactly find the . otherwise it will find for all as it is a special character.\n"
      ]
    },
    {
      "cell_type": "code",
      "metadata": {
        "id": "nLsjkIX_cctP"
      },
      "source": [
        "pattern=re.compile(r\"coreyms\\.com\")"
      ],
      "execution_count": null,
      "outputs": []
    },
    {
      "cell_type": "code",
      "metadata": {
        "id": "mdc-uobdeEna"
      },
      "source": [
        "matches = pattern.finditer(text_to_search)"
      ],
      "execution_count": null,
      "outputs": []
    },
    {
      "cell_type": "code",
      "metadata": {
        "id": "YY9Yl9AfdgK3",
        "outputId": "4a14175f-f536-4511-a348-a5e913104a21",
        "colab": {
          "base_uri": "https://localhost:8080/",
          "height": 34
        }
      },
      "source": [
        "for match in matches:\n",
        "  print(match)"
      ],
      "execution_count": null,
      "outputs": [
        {
          "output_type": "stream",
          "text": [
            "<_sre.SRE_Match object; span=(142, 153), match='coreyms.com'>\n"
          ],
          "name": "stdout"
        }
      ]
    },
    {
      "cell_type": "markdown",
      "metadata": {
        "id": "IZVYtgGUetr3"
      },
      "source": [
        ".       - Any Character Except New Line\n",
        "\n",
        "\\d      - Digit (0-9)\n",
        "\n",
        "\\D      - Not a Digit (0-9)\n",
        "\n",
        "\\w      - Word Character (a-z, A-Z, 0-9, _)\n",
        "\n",
        "\\W      - Not a Word Character\n",
        "\n",
        "\\s      - Whitespace (space, tab, newline)\n",
        "\n",
        "\\S      - Not Whitespace (space, tab, newline)\n",
        "\n",
        "\n",
        "\\b      - Word Boundary\n",
        "\n",
        "\\B      - Not a Word Boundary\n",
        "\n",
        "^       - Beginning of a String\n",
        "\n",
        "$       - End of a String\n",
        "\n",
        "\n",
        "[ ]      - Matches Characters in brackets\n",
        "\n",
        "[^ ]    - Matches Characters NOT in brackets\n",
        "\n",
        "|       - Either Or\n",
        "\n",
        "( )     - Group\n",
        "\n",
        "\n",
        "Quantifiers:\n",
        "\n",
        "*       - 0 or More\n",
        "\n",
        "+       - 1 or More\n",
        "\n",
        "?       - 0 or One\n",
        "\n",
        "{3}     - Exact Number\n",
        "\n",
        "{3,4}   - Range of Numbers (Minimum, Maximum)\n",
        "\n",
        "\n",
        "\n",
        "#### Sample Regexs ####\n",
        "\n",
        "\n",
        "[a-zA-Z0-9_.+-]+@[a-zA-Z0-9-]+\\.[a-zA-Z0-9-.]+"
      ]
    },
    {
      "cell_type": "markdown",
      "metadata": {
        "id": "xYXlstdtffAg"
      },
      "source": [
        "enter each above and see the changes in the output."
      ]
    },
    {
      "cell_type": "code",
      "metadata": {
        "id": "9gJ9VRCudpJK",
        "outputId": "13aa15b9-2e78-4885-932a-63f35a6c1fdc",
        "colab": {
          "base_uri": "https://localhost:8080/",
          "height": 34
        }
      },
      "source": [
        "pattern=re.compile(r\"\\$\")\n",
        "matches = pattern.finditer(text_to_search)\n",
        "for match in matches:\n",
        "  print(match)"
      ],
      "execution_count": null,
      "outputs": [
        {
          "output_type": "stream",
          "text": [
            "<_sre.SRE_Match object; span=(117, 118), match='$'>\n"
          ],
          "name": "stdout"
        }
      ]
    },
    {
      "cell_type": "markdown",
      "metadata": {
        "id": "8jAmbztxlPtJ"
      },
      "source": [
        "lets find this \n",
        "\n",
        "321-555-4321\n",
        "\n",
        "123.555.1234"
      ]
    },
    {
      "cell_type": "code",
      "metadata": {
        "id": "rYnOUMGXfmPZ",
        "outputId": "aed99f3a-4aa5-4f98-9ab5-c8cd080dc7ee",
        "colab": {
          "base_uri": "https://localhost:8080/",
          "height": 102
        }
      },
      "source": [
        "pattern= re.compile(r\"\\d\\d\\d.\\d\\d\\d.\\d\\d\\d\\d\")\n",
        "matches= pattern.finditer(text_to_search)\n",
        "for match in matches:\n",
        "  print(match)"
      ],
      "execution_count": null,
      "outputs": [
        {
          "output_type": "stream",
          "text": [
            "<_sre.SRE_Match object; span=(154, 166), match='321-555-4321'>\n",
            "<_sre.SRE_Match object; span=(167, 179), match='123.555.1234'>\n",
            "<_sre.SRE_Match object; span=(180, 192), match='123*555*1234'>\n",
            "<_sre.SRE_Match object; span=(193, 205), match='800-555-1234'>\n",
            "<_sre.SRE_Match object; span=(206, 218), match='900-555-1234'>\n"
          ],
          "name": "stdout"
        }
      ]
    },
    {
      "cell_type": "markdown",
      "metadata": {
        "id": "9KGYZFi-y8sb"
      },
      "source": [
        "when we just want to match the - and ."
      ]
    },
    {
      "cell_type": "code",
      "metadata": {
        "id": "Fu3-z72rl2di",
        "outputId": "dbf62942-4270-426b-af5e-71d4ea8b6f88",
        "colab": {
          "base_uri": "https://localhost:8080/",
          "height": 85
        }
      },
      "source": [
        "pattern=re.compile(r\"\\d\\d\\d[-.]\\d\\d\\d[-.]\\d\\d\\d\\d\")\n",
        "matches = pattern.finditer(text_to_search)\n",
        "for match in matches:\n",
        "  print(match)"
      ],
      "execution_count": null,
      "outputs": [
        {
          "output_type": "stream",
          "text": [
            "<_sre.SRE_Match object; span=(154, 166), match='321-555-4321'>\n",
            "<_sre.SRE_Match object; span=(167, 179), match='123.555.1234'>\n",
            "<_sre.SRE_Match object; span=(193, 205), match='800-555-1234'>\n",
            "<_sre.SRE_Match object; span=(206, 218), match='900-555-1234'>\n"
          ],
          "name": "stdout"
        }
      ]
    },
    {
      "cell_type": "markdown",
      "metadata": {
        "id": "w2SPvIUd8OJk"
      },
      "source": [
        "Find this\n",
        "\n",
        "800-555-1234\n",
        "\n",
        "900-555-1234"
      ]
    },
    {
      "cell_type": "code",
      "metadata": {
        "id": "Ov36nYKUzgQZ",
        "outputId": "71a9529b-c960-49a0-c8f9-9cc7d0907746",
        "colab": {
          "base_uri": "https://localhost:8080/",
          "height": 51
        }
      },
      "source": [
        "pattern=re.compile(r\"[89]00[-]\\d\\d\\d[-.]\\d\\d\\d\\d\")\n",
        "matches = pattern.finditer(text_to_search)\n",
        "for match in matches:\n",
        "  print(match)"
      ],
      "execution_count": null,
      "outputs": [
        {
          "output_type": "stream",
          "text": [
            "<_sre.SRE_Match object; span=(194, 206), match='800-555-1234'>\n",
            "<_sre.SRE_Match object; span=(207, 219), match='900-555-1234'>\n"
          ],
          "name": "stdout"
        }
      ]
    },
    {
      "cell_type": "markdown",
      "metadata": {
        "id": "U5Ln67K7_0SG"
      },
      "source": [
        "search evrthing but not bat"
      ]
    },
    {
      "cell_type": "code",
      "metadata": {
        "id": "Asqxk520868e",
        "outputId": "c0cdfc06-74f1-4841-f5d3-b5ccfe6fac93",
        "colab": {
          "base_uri": "https://localhost:8080/",
          "height": 51
        }
      },
      "source": [
        "pattern=re.compile(r\"[^b]at\")\n",
        "matches = pattern.finditer(text_to_search)\n",
        "for match in matches:\n",
        "  print(match)"
      ],
      "execution_count": null,
      "outputs": [
        {
          "output_type": "stream",
          "text": [
            "<_sre.SRE_Match object; span=(271, 274), match='cat'>\n",
            "<_sre.SRE_Match object; span=(275, 278), match='mat'>\n"
          ],
          "name": "stdout"
        }
      ]
    },
    {
      "cell_type": "markdown",
      "metadata": {
        "id": "MUfjwe18CIYX"
      },
      "source": [
        "When we want he same digit we can use {}rather then wrting \\d multiple times."
      ]
    },
    {
      "cell_type": "code",
      "metadata": {
        "id": "6hEmwtGqCHuB"
      },
      "source": [
        "pattern=re.compile(r'\\d{3}.\\d{3}.\\d\\{4}')\n",
        "matches = pattern.finditer(text_to_search)\n",
        "for match in matches:\n",
        "  print(match)"
      ],
      "execution_count": null,
      "outputs": []
    },
    {
      "cell_type": "markdown",
      "metadata": {
        "id": "DfAFehT2EifR"
      },
      "source": [
        "lest do the code for the mr mrs mr names."
      ]
    },
    {
      "cell_type": "code",
      "metadata": {
        "id": "To2WdTzI__3g",
        "outputId": "a28d1a92-20c8-4985-b75e-90af3cc3dc13",
        "colab": {
          "base_uri": "https://localhost:8080/",
          "height": 102
        }
      },
      "source": [
        "pattern=re.compile(r'(Mr|Mrs|Ms)\\.?\\s[A-Z]\\w*')\n",
        "matches = pattern.finditer(text_to_search)\n",
        "for match in matches:\n",
        "  print(match)"
      ],
      "execution_count": null,
      "outputs": [
        {
          "output_type": "stream",
          "text": [
            "<_sre.SRE_Match object; span=(220, 231), match='Mr. Schafer'>\n",
            "<_sre.SRE_Match object; span=(232, 240), match='Mr Smith'>\n",
            "<_sre.SRE_Match object; span=(241, 249), match='Ms Davis'>\n",
            "<_sre.SRE_Match object; span=(250, 263), match='Mrs. Robinson'>\n",
            "<_sre.SRE_Match object; span=(264, 269), match='Mr. T'>\n"
          ],
          "name": "stdout"
        }
      ]
    },
    {
      "cell_type": "code",
      "metadata": {
        "id": "ELEKQUk6DT-M",
        "outputId": "535d67a4-7de1-475e-d15a-b87b65ef07ea",
        "colab": {
          "base_uri": "https://localhost:8080/",
          "height": 68
        }
      },
      "source": [
        "import re\n",
        "\n",
        "emails = '''\n",
        "CoreyMSchafer@gmail.com\n",
        "corey.schafer@university.edu\n",
        "corey-321-schafer@my-work.net\n",
        "'''\n",
        "\n",
        "pattern = re.compile(r'[a-zA-Z0-9_.+-]+@[a-zA-Z0-9-]+\\.[a-zA-Z0-9-.]+')\n",
        "\n",
        "matches = pattern.finditer(emails)\n",
        "\n",
        "for match in matches:\n",
        "    print(match)"
      ],
      "execution_count": null,
      "outputs": [
        {
          "output_type": "stream",
          "text": [
            "<_sre.SRE_Match object; span=(1, 24), match='CoreyMSchafer@gmail.com'>\n",
            "<_sre.SRE_Match object; span=(25, 53), match='corey.schafer@university.edu'>\n",
            "<_sre.SRE_Match object; span=(54, 83), match='corey-321-schafer@my-work.net'>\n"
          ],
          "name": "stdout"
        }
      ]
    },
    {
      "cell_type": "code",
      "metadata": {
        "id": "HxsbUebsGp3_"
      },
      "source": [
        ""
      ],
      "execution_count": null,
      "outputs": []
    }
  ]
}